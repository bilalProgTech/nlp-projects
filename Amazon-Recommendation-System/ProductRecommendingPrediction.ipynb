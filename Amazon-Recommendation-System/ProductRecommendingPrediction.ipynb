{
 "cells": [
  {
   "cell_type": "code",
   "execution_count": 1,
   "metadata": {},
   "outputs": [
    {
     "name": "stderr",
     "output_type": "stream",
     "text": [
      "C:\\Users\\hungu\\anaconda.x\\lib\\site-packages\\gensim\\utils.py:1197: UserWarning: detected Windows; aliasing chunkize to chunkize_serial\n",
      "  warnings.warn(\"detected Windows; aliasing chunkize to chunkize_serial\")\n"
     ]
    }
   ],
   "source": [
    "import pandas as pd\n",
    "import numpy as np\n",
    "import random\n",
    "from tqdm import tqdm\n",
    "from gensim.models import Word2Vec \n",
    "import matplotlib.pyplot as plt\n",
    "%matplotlib inline\n",
    "\n",
    "import warnings;\n",
    "warnings.filterwarnings('ignore')"
   ]
  },
  {
   "cell_type": "code",
   "execution_count": 2,
   "metadata": {},
   "outputs": [],
   "source": [
    "train = pd.read_csv('train_5UKooLv.csv')\n",
    "test = pd.read_csv('test_J1hm2KQ.csv')\n",
    "submission = pd.read_csv('sample_submission_r7hs8Tz.csv')"
   ]
  },
  {
   "cell_type": "code",
   "execution_count": 3,
   "metadata": {},
   "outputs": [
    {
     "data": {
      "text/html": [
       "<div>\n",
       "<style scoped>\n",
       "    .dataframe tbody tr th:only-of-type {\n",
       "        vertical-align: middle;\n",
       "    }\n",
       "\n",
       "    .dataframe tbody tr th {\n",
       "        vertical-align: top;\n",
       "    }\n",
       "\n",
       "    .dataframe thead th {\n",
       "        text-align: right;\n",
       "    }\n",
       "</style>\n",
       "<table border=\"1\" class=\"dataframe\">\n",
       "  <thead>\n",
       "    <tr style=\"text-align: right;\">\n",
       "      <th></th>\n",
       "      <th>CustomerID</th>\n",
       "      <th>InvoiceNo</th>\n",
       "      <th>Quantity</th>\n",
       "      <th>InvoiceDate</th>\n",
       "      <th>UnitPrice</th>\n",
       "      <th>Country</th>\n",
       "      <th>StockCode</th>\n",
       "    </tr>\n",
       "  </thead>\n",
       "  <tbody>\n",
       "    <tr>\n",
       "      <th>0</th>\n",
       "      <td>27270</td>\n",
       "      <td>27270</td>\n",
       "      <td>7</td>\n",
       "      <td>01/12/10 8:26</td>\n",
       "      <td>2.55</td>\n",
       "      <td>PX</td>\n",
       "      <td>85123AY</td>\n",
       "    </tr>\n",
       "    <tr>\n",
       "      <th>1</th>\n",
       "      <td>27270</td>\n",
       "      <td>27270</td>\n",
       "      <td>7</td>\n",
       "      <td>01/12/10 8:26</td>\n",
       "      <td>3.39</td>\n",
       "      <td>PX</td>\n",
       "      <td>71053R</td>\n",
       "    </tr>\n",
       "    <tr>\n",
       "      <th>2</th>\n",
       "      <td>27270</td>\n",
       "      <td>27270</td>\n",
       "      <td>9</td>\n",
       "      <td>01/12/10 8:26</td>\n",
       "      <td>2.75</td>\n",
       "      <td>PX</td>\n",
       "      <td>84406BH</td>\n",
       "    </tr>\n",
       "    <tr>\n",
       "      <th>3</th>\n",
       "      <td>27270</td>\n",
       "      <td>27270</td>\n",
       "      <td>7</td>\n",
       "      <td>01/12/10 8:26</td>\n",
       "      <td>3.39</td>\n",
       "      <td>PX</td>\n",
       "      <td>84029GV</td>\n",
       "    </tr>\n",
       "    <tr>\n",
       "      <th>4</th>\n",
       "      <td>27270</td>\n",
       "      <td>27270</td>\n",
       "      <td>7</td>\n",
       "      <td>01/12/10 8:26</td>\n",
       "      <td>3.39</td>\n",
       "      <td>PX</td>\n",
       "      <td>84029EX</td>\n",
       "    </tr>\n",
       "  </tbody>\n",
       "</table>\n",
       "</div>"
      ],
      "text/plain": [
       "   CustomerID  InvoiceNo  Quantity    InvoiceDate  UnitPrice Country StockCode\n",
       "0       27270      27270         7  01/12/10 8:26       2.55      PX   85123AY\n",
       "1       27270      27270         7  01/12/10 8:26       3.39      PX    71053R\n",
       "2       27270      27270         9  01/12/10 8:26       2.75      PX   84406BH\n",
       "3       27270      27270         7  01/12/10 8:26       3.39      PX   84029GV\n",
       "4       27270      27270         7  01/12/10 8:26       3.39      PX   84029EX"
      ]
     },
     "execution_count": 3,
     "metadata": {},
     "output_type": "execute_result"
    }
   ],
   "source": [
    "train.head()"
   ]
  },
  {
   "cell_type": "code",
   "execution_count": 4,
   "metadata": {},
   "outputs": [
    {
     "data": {
      "text/html": [
       "<div>\n",
       "<style scoped>\n",
       "    .dataframe tbody tr th:only-of-type {\n",
       "        vertical-align: middle;\n",
       "    }\n",
       "\n",
       "    .dataframe tbody tr th {\n",
       "        vertical-align: top;\n",
       "    }\n",
       "\n",
       "    .dataframe thead th {\n",
       "        text-align: right;\n",
       "    }\n",
       "</style>\n",
       "<table border=\"1\" class=\"dataframe\">\n",
       "  <thead>\n",
       "    <tr style=\"text-align: right;\">\n",
       "      <th></th>\n",
       "      <th>Country</th>\n",
       "      <th>CustomerID</th>\n",
       "      <th>InvoiceDate</th>\n",
       "      <th>InvoiceNo</th>\n",
       "      <th>Quantity</th>\n",
       "      <th>StockCode</th>\n",
       "      <th>UnitPrice</th>\n",
       "    </tr>\n",
       "  </thead>\n",
       "  <tbody>\n",
       "    <tr>\n",
       "      <th>0</th>\n",
       "      <td>PX</td>\n",
       "      <td>127269</td>\n",
       "      <td>01/12/10 8:28</td>\n",
       "      <td>127269</td>\n",
       "      <td>7</td>\n",
       "      <td>22633V</td>\n",
       "      <td>1.85</td>\n",
       "    </tr>\n",
       "    <tr>\n",
       "      <th>1</th>\n",
       "      <td>PX</td>\n",
       "      <td>227268</td>\n",
       "      <td>01/12/10 8:34</td>\n",
       "      <td>227268</td>\n",
       "      <td>38</td>\n",
       "      <td>84879M</td>\n",
       "      <td>1.69</td>\n",
       "    </tr>\n",
       "    <tr>\n",
       "      <th>2</th>\n",
       "      <td>PX</td>\n",
       "      <td>227268</td>\n",
       "      <td>01/12/10 8:34</td>\n",
       "      <td>227268</td>\n",
       "      <td>7</td>\n",
       "      <td>22748P</td>\n",
       "      <td>2.10</td>\n",
       "    </tr>\n",
       "    <tr>\n",
       "      <th>3</th>\n",
       "      <td>PX</td>\n",
       "      <td>227268</td>\n",
       "      <td>01/12/10 8:34</td>\n",
       "      <td>227268</td>\n",
       "      <td>9</td>\n",
       "      <td>22749K</td>\n",
       "      <td>3.75</td>\n",
       "    </tr>\n",
       "    <tr>\n",
       "      <th>4</th>\n",
       "      <td>PX</td>\n",
       "      <td>227268</td>\n",
       "      <td>01/12/10 8:34</td>\n",
       "      <td>227268</td>\n",
       "      <td>2</td>\n",
       "      <td>22622G</td>\n",
       "      <td>9.95</td>\n",
       "    </tr>\n",
       "  </tbody>\n",
       "</table>\n",
       "</div>"
      ],
      "text/plain": [
       "  Country  CustomerID    InvoiceDate  InvoiceNo  Quantity StockCode  UnitPrice\n",
       "0      PX      127269  01/12/10 8:28     127269         7    22633V       1.85\n",
       "1      PX      227268  01/12/10 8:34     227268        38    84879M       1.69\n",
       "2      PX      227268  01/12/10 8:34     227268         7    22748P       2.10\n",
       "3      PX      227268  01/12/10 8:34     227268         9    22749K       3.75\n",
       "4      PX      227268  01/12/10 8:34     227268         2    22622G       9.95"
      ]
     },
     "execution_count": 4,
     "metadata": {},
     "output_type": "execute_result"
    }
   ],
   "source": [
    "test.head()"
   ]
  },
  {
   "cell_type": "code",
   "execution_count": 5,
   "metadata": {},
   "outputs": [
    {
     "data": {
      "text/plain": [
       "((330575, 7), (103097, 7))"
      ]
     },
     "execution_count": 5,
     "metadata": {},
     "output_type": "execute_result"
    }
   ],
   "source": [
    "train.shape, test.shape"
   ]
  },
  {
   "cell_type": "code",
   "execution_count": 6,
   "metadata": {},
   "outputs": [
    {
     "data": {
      "text/plain": [
       "Country        0\n",
       "CustomerID     0\n",
       "InvoiceDate    0\n",
       "InvoiceNo      0\n",
       "Quantity       0\n",
       "StockCode      0\n",
       "UnitPrice      0\n",
       "dtype: int64"
      ]
     },
     "execution_count": 6,
     "metadata": {},
     "output_type": "execute_result"
    }
   ],
   "source": [
    "test.isnull().sum()"
   ]
  },
  {
   "cell_type": "code",
   "execution_count": 7,
   "metadata": {},
   "outputs": [
    {
     "data": {
      "text/plain": [
       "CustomerID     0\n",
       "InvoiceNo      0\n",
       "Quantity       0\n",
       "InvoiceDate    0\n",
       "UnitPrice      0\n",
       "Country        0\n",
       "StockCode      0\n",
       "dtype: int64"
      ]
     },
     "execution_count": 7,
     "metadata": {},
     "output_type": "execute_result"
    }
   ],
   "source": [
    "train.isnull().sum()"
   ]
  },
  {
   "cell_type": "code",
   "execution_count": 8,
   "metadata": {},
   "outputs": [
    {
     "data": {
      "text/plain": [
       "CustomerID       int64\n",
       "InvoiceNo        int64\n",
       "Quantity         int64\n",
       "InvoiceDate     object\n",
       "UnitPrice      float64\n",
       "Country         object\n",
       "StockCode       object\n",
       "dtype: object"
      ]
     },
     "execution_count": 8,
     "metadata": {},
     "output_type": "execute_result"
    }
   ],
   "source": [
    "train.dtypes"
   ]
  },
  {
   "cell_type": "code",
   "execution_count": 9,
   "metadata": {},
   "outputs": [],
   "source": [
    "data = train.append(test)"
   ]
  },
  {
   "cell_type": "code",
   "execution_count": 10,
   "metadata": {},
   "outputs": [],
   "source": [
    "data['StockCode'] = data['StockCode'].astype('str')"
   ]
  },
  {
   "cell_type": "code",
   "execution_count": 11,
   "metadata": {},
   "outputs": [
    {
     "data": {
      "text/plain": [
       "1600"
      ]
     },
     "execution_count": 11,
     "metadata": {},
     "output_type": "execute_result"
    }
   ],
   "source": [
    "customers = data['CustomerID'].unique().tolist()\n",
    "len(customers)"
   ]
  },
  {
   "cell_type": "code",
   "execution_count": 12,
   "metadata": {},
   "outputs": [
    {
     "data": {
      "text/plain": [
       "(628, 2)"
      ]
     },
     "execution_count": 12,
     "metadata": {},
     "output_type": "execute_result"
    }
   ],
   "source": [
    "submission.shape"
   ]
  },
  {
   "cell_type": "code",
   "execution_count": 13,
   "metadata": {
    "scrolled": true
   },
   "outputs": [
    {
     "name": "stderr",
     "output_type": "stream",
     "text": [
      "100%|█████████████████████████████████████████████████████████████████████████████| 1600/1600 [00:02<00:00, 758.25it/s]\n"
     ]
    }
   ],
   "source": [
    "purchases_data = []\n",
    "\n",
    "for i in tqdm(customers):\n",
    "    t = data[data['CustomerID']== i]['StockCode'].tolist()\n",
    "    purchases_data.append(t)"
   ]
  },
  {
   "cell_type": "code",
   "execution_count": 15,
   "metadata": {
    "scrolled": true
   },
   "outputs": [
    {
     "data": {
      "text/plain": [
       "(4307991, 4336720)"
      ]
     },
     "execution_count": 15,
     "metadata": {},
     "output_type": "execute_result"
    }
   ],
   "source": [
    "model = Word2Vec(window=10, sg=1, hs=0,\n",
    "                 negative=10, alpha=0.03, min_alpha=0.0007, seed=14)\n",
    "\n",
    "model.build_vocab(purchases_data, progress_per=200)\n",
    "\n",
    "model.train(purchases_data, total_examples=model.corpus_count,\n",
    "            epochs=10, report_delay=1)"
   ]
  },
  {
   "cell_type": "code",
   "execution_count": 16,
   "metadata": {},
   "outputs": [
    {
     "data": {
      "text/plain": [
       "1600"
      ]
     },
     "execution_count": 16,
     "metadata": {},
     "output_type": "execute_result"
    }
   ],
   "source": [
    "model.corpus_count"
   ]
  },
  {
   "cell_type": "code",
   "execution_count": 17,
   "metadata": {},
   "outputs": [],
   "source": [
    "model.init_sims(replace=True)"
   ]
  },
  {
   "cell_type": "code",
   "execution_count": 18,
   "metadata": {},
   "outputs": [
    {
     "name": "stdout",
     "output_type": "stream",
     "text": [
      "Word2Vec(vocab=3407, size=100, alpha=0.03)\n"
     ]
    }
   ],
   "source": [
    "print(model)"
   ]
  },
  {
   "cell_type": "code",
   "execution_count": 19,
   "metadata": {},
   "outputs": [
    {
     "data": {
      "text/plain": [
       "(3407, 100)"
      ]
     },
     "execution_count": 19,
     "metadata": {},
     "output_type": "execute_result"
    }
   ],
   "source": [
    "X = model[model.wv.vocab]\n",
    "X.shape"
   ]
  },
  {
   "cell_type": "code",
   "execution_count": 20,
   "metadata": {},
   "outputs": [
    {
     "data": {
      "text/plain": [
       "<matplotlib.collections.PathCollection at 0x2ac6f588ac8>"
      ]
     },
     "execution_count": 20,
     "metadata": {},
     "output_type": "execute_result"
    },
    {
     "data": {
      "image/png": "[encoded data removed]",
      "text/plain": [
       "<Figure size 720x648 with 1 Axes>"
      ]
     },
     "metadata": {
      "needs_background": "light"
     },
     "output_type": "display_data"
    }
   ],
   "source": [
    "import umap\n",
    "\n",
    "cluster_embedding = umap.UMAP(n_neighbors=20, min_dist=0.0,\n",
    "                              n_components=2, random_state=42).fit_transform(X)\n",
    "\n",
    "plt.figure(figsize=(10,9))\n",
    "plt.scatter(cluster_embedding[:, 0], cluster_embedding[:, 1], s=3, cmap='Spectral')"
   ]
  },
  {
   "cell_type": "code",
   "execution_count": 21,
   "metadata": {},
   "outputs": [],
   "source": [
    "products = test[['CustomerID','StockCode']]\n",
    "\n",
    "products.drop_duplicates(inplace=True, keep='last')"
   ]
  },
  {
   "cell_type": "code",
   "execution_count": 22,
   "metadata": {},
   "outputs": [],
   "source": [
    "product_info = products.groupby('CustomerID')['StockCode'].apply(list).to_dict()"
   ]
  },
  {
   "cell_type": "code",
   "execution_count": 23,
   "metadata": {},
   "outputs": [
    {
     "data": {
      "text/plain": [
       "628"
      ]
     },
     "execution_count": 23,
     "metadata": {},
     "output_type": "execute_result"
    }
   ],
   "source": [
    "len(product_info)"
   ]
  },
  {
   "cell_type": "code",
   "execution_count": 24,
   "metadata": {},
   "outputs": [],
   "source": [
    "def get_similar_products(product, num = 10):\n",
    "    ms = model.similar_by_vector(product, topn= num+1)[1:]\n",
    "    temp = []\n",
    "    for j in ms:\n",
    "        pair = j[0]\n",
    "        temp.append(pair)\n",
    "    return temp"
   ]
  },
  {
   "cell_type": "code",
   "execution_count": 25,
   "metadata": {},
   "outputs": [
    {
     "data": {
      "text/plain": [
       "['22419N',\n",
       " '22421F',\n",
       " '22420M',\n",
       " '22437B',\n",
       " '22422Q',\n",
       " '22492E',\n",
       " '22439F',\n",
       " '22489J',\n",
       " '22537N',\n",
       " '22446X']"
      ]
     },
     "execution_count": 25,
     "metadata": {},
     "output_type": "execute_result"
    }
   ],
   "source": [
    "get_similar_products(model['22418R'])"
   ]
  },
  {
   "cell_type": "code",
   "execution_count": 26,
   "metadata": {
    "scrolled": true
   },
   "outputs": [],
   "source": [
    "customers_sample = submission['CustomerID']\n",
    "list_submission = []\n",
    "list_sm_prod = []\n",
    "for i in range(len(customers_sample)):\n",
    "    list_sm_prod = []\n",
    "    product_stock = product_info[customers_sample.values[i]]\n",
    "    for j in range(len(product_stock)):\n",
    "        try:\n",
    "            list_sm_prod.append(get_similar_products(model[product_info[customers_sample.values[i]][j]]))\n",
    "        except KeyError:\n",
    "            c = 0\n",
    "    list_sm_prod = sum(list_sm_prod, [])\n",
    "    list_submission.append(list_sm_prod)"
   ]
  },
  {
   "cell_type": "code",
   "execution_count": 27,
   "metadata": {},
   "outputs": [],
   "source": [
    "submission['Items'] = list_submission\n",
    "submission.to_csv('sample.csv', header=True, index=False)"
   ]
  },
  {
   "cell_type": "code",
   "execution_count": 28,
   "metadata": {},
   "outputs": [
    {
     "data": {
      "text/html": [
       "<div>\n",
       "<style scoped>\n",
       "    .dataframe tbody tr th:only-of-type {\n",
       "        vertical-align: middle;\n",
       "    }\n",
       "\n",
       "    .dataframe tbody tr th {\n",
       "        vertical-align: top;\n",
       "    }\n",
       "\n",
       "    .dataframe thead th {\n",
       "        text-align: right;\n",
       "    }\n",
       "</style>\n",
       "<table border=\"1\" class=\"dataframe\">\n",
       "  <thead>\n",
       "    <tr style=\"text-align: right;\">\n",
       "      <th></th>\n",
       "      <th>CustomerID</th>\n",
       "      <th>Items</th>\n",
       "    </tr>\n",
       "  </thead>\n",
       "  <tbody>\n",
       "    <tr>\n",
       "      <th>0</th>\n",
       "      <td>258048</td>\n",
       "      <td>[22209G, 22210R, 22211Y, 22204L, 22214T, 22196...</td>\n",
       "    </tr>\n",
       "    <tr>\n",
       "      <th>1</th>\n",
       "      <td>520875</td>\n",
       "      <td>[22962X, 22969Z, 22960K, 22961C, 22993E, 22978...</td>\n",
       "    </tr>\n",
       "    <tr>\n",
       "      <th>2</th>\n",
       "      <td>542745</td>\n",
       "      <td>[22459S, 22456H, 22451T, 22477A, 22457C, 22471...</td>\n",
       "    </tr>\n",
       "    <tr>\n",
       "      <th>3</th>\n",
       "      <td>477216</td>\n",
       "      <td>[23146P, 23148U, 23136V, 23140N, 23139D, 23152...</td>\n",
       "    </tr>\n",
       "    <tr>\n",
       "      <th>4</th>\n",
       "      <td>251937</td>\n",
       "      <td>[84406BH, 84840M, 84849AN, 84755J, 84836J, 843...</td>\n",
       "    </tr>\n",
       "  </tbody>\n",
       "</table>\n",
       "</div>"
      ],
      "text/plain": [
       "   CustomerID                                              Items\n",
       "0      258048  [22209G, 22210R, 22211Y, 22204L, 22214T, 22196...\n",
       "1      520875  [22962X, 22969Z, 22960K, 22961C, 22993E, 22978...\n",
       "2      542745  [22459S, 22456H, 22451T, 22477A, 22457C, 22471...\n",
       "3      477216  [23146P, 23148U, 23136V, 23140N, 23139D, 23152...\n",
       "4      251937  [84406BH, 84840M, 84849AN, 84755J, 84836J, 843..."
      ]
     },
     "execution_count": 28,
     "metadata": {},
     "output_type": "execute_result"
    }
   ],
   "source": [
    "submission.head()"
   ]
  },
  {
   "cell_type": "code",
   "execution_count": 29,
   "metadata": {},
   "outputs": [],
   "source": [
    "submission.to_csv('submission.csv', index=False)"
   ]
  }
 ],
 "metadata": {
  "kernelspec": {
   "display_name": "Python 3",
   "language": "python",
   "name": "python3"
  },
  "language_info": {
   "codemirror_mode": {
    "name": "ipython",
    "version": 3
   },
   "file_extension": ".py",
   "mimetype": "text/x-python",
   "name": "python",
   "nbconvert_exporter": "python",
   "pygments_lexer": "ipython3",
   "version": "3.7.3"
  }
 },
 "nbformat": 4,
 "nbformat_minor": 2
}
