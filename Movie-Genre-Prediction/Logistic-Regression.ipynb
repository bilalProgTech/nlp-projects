{
 "cells": [
  {
   "cell_type": "markdown",
   "metadata": {},
   "source": [
    "# Problem Statement"
   ]
  },
  {
   "cell_type": "markdown",
   "metadata": {},
   "source": [
    "Provided the entire script of the movie, can you classify it into the right genre.\n",
    "Labeling text data can be hard. To use the available information to auto-create or predict the labels can be an interesting machine learning task. Using the power of Natural Language Processing (NLP) the unstructured text data can be leveraged to auto-generate the right classes for the test data in the future.\n",
    "\n",
    "In order to accomplish this, we have scraped close to 2000 movie scripts and the respective genres.\n",
    "\n",
    "As some of the scripts are huge, it would be interesting to figure out new ways of feature extraction and different NLP techniques.\n",
    "\n",
    "In this hackathon participants are challenged to use the movie script to design a Natural language processing system that can help the customer classify it into the right genre in the coming future."
   ]
  },
  {
   "cell_type": "code",
   "execution_count": 1,
   "metadata": {},
   "outputs": [],
   "source": [
    "import pandas as pd\n",
    "import numpy as np\n",
    "import nltk\n",
    "import re\n",
    "import csv\n",
    "import matplotlib.pyplot as plt\n",
    "from tqdm import tqdm\n",
    "%matplotlib inline\n",
    "pd.set_option('display.max_colwidth', 300)"
   ]
  },
  {
   "cell_type": "code",
   "execution_count": 2,
   "metadata": {},
   "outputs": [],
   "source": [
    "train = pd.read_csv('Train.csv')\n",
    "test = pd.read_csv('Test.csv')"
   ]
  },
  {
   "cell_type": "code",
   "execution_count": 3,
   "metadata": {},
   "outputs": [
    {
     "data": {
      "text/html": [
       "<div>\n",
       "<style scoped>\n",
       "    .dataframe tbody tr th:only-of-type {\n",
       "        vertical-align: middle;\n",
       "    }\n",
       "\n",
       "    .dataframe tbody tr th {\n",
       "        vertical-align: top;\n",
       "    }\n",
       "\n",
       "    .dataframe thead th {\n",
       "        text-align: right;\n",
       "    }\n",
       "</style>\n",
       "<table border=\"1\" class=\"dataframe\">\n",
       "  <thead>\n",
       "    <tr style=\"text-align: right;\">\n",
       "      <th></th>\n",
       "      <th>File_Name</th>\n",
       "      <th>Labels</th>\n",
       "    </tr>\n",
       "  </thead>\n",
       "  <tbody>\n",
       "    <tr>\n",
       "      <th>0</th>\n",
       "      <td>file_2180.txt</td>\n",
       "      <td>8</td>\n",
       "    </tr>\n",
       "    <tr>\n",
       "      <th>1</th>\n",
       "      <td>file_693.txt</td>\n",
       "      <td>4</td>\n",
       "    </tr>\n",
       "    <tr>\n",
       "      <th>2</th>\n",
       "      <td>file_2469.txt</td>\n",
       "      <td>6</td>\n",
       "    </tr>\n",
       "    <tr>\n",
       "      <th>3</th>\n",
       "      <td>file_2542.txt</td>\n",
       "      <td>6</td>\n",
       "    </tr>\n",
       "    <tr>\n",
       "      <th>4</th>\n",
       "      <td>file_378.txt</td>\n",
       "      <td>16</td>\n",
       "    </tr>\n",
       "  </tbody>\n",
       "</table>\n",
       "</div>"
      ],
      "text/plain": [
       "       File_Name  Labels\n",
       "0  file_2180.txt       8\n",
       "1   file_693.txt       4\n",
       "2  file_2469.txt       6\n",
       "3  file_2542.txt       6\n",
       "4   file_378.txt      16"
      ]
     },
     "execution_count": 3,
     "metadata": {},
     "output_type": "execute_result"
    }
   ],
   "source": [
    "train.head()"
   ]
  },
  {
   "cell_type": "code",
   "execution_count": 4,
   "metadata": {},
   "outputs": [
    {
     "data": {
      "text/plain": [
       "((1978, 2), (849, 1))"
      ]
     },
     "execution_count": 4,
     "metadata": {},
     "output_type": "execute_result"
    }
   ],
   "source": [
    "train.shape, test.shape"
   ]
  },
  {
   "cell_type": "code",
   "execution_count": 5,
   "metadata": {},
   "outputs": [],
   "source": [
    "import os\n",
    "data_folder = \"C:\\\\Users\\\\hungu\\\\Documents\\\\MovieGenre\\\\MovieScriptsParticipantsData\\\\Scripts\"\n",
    "train['Script'] = [open(data_folder + os.sep + file, \"r\").read() for file in train['File_Name']]\n",
    "test['Script'] = [open(data_folder + os.sep + file, \"r\").read() for file in test['File_Name']]"
   ]
  },
  {
   "cell_type": "code",
   "execution_count": 6,
   "metadata": {
    "scrolled": false
   },
   "outputs": [
    {
     "data": {
      "text/html": [
       "<div>\n",
       "<style scoped>\n",
       "    .dataframe tbody tr th:only-of-type {\n",
       "        vertical-align: middle;\n",
       "    }\n",
       "\n",
       "    .dataframe tbody tr th {\n",
       "        vertical-align: top;\n",
       "    }\n",
       "\n",
       "    .dataframe thead th {\n",
       "        text-align: right;\n",
       "    }\n",
       "</style>\n",
       "<table border=\"1\" class=\"dataframe\">\n",
       "  <thead>\n",
       "    <tr style=\"text-align: right;\">\n",
       "      <th></th>\n",
       "      <th>File_Name</th>\n",
       "      <th>Labels</th>\n",
       "      <th>Script</th>\n",
       "    </tr>\n",
       "  </thead>\n",
       "  <tbody>\n",
       "    <tr>\n",
       "      <th>0</th>\n",
       "      <td>file_2180.txt</td>\n",
       "      <td>8</td>\n",
       "      <td>\\t\\t\\tCrouching Tiger, Hidden Dragon\\n\\n\\t\\t\\t\\tby\\n\\n\\tWang Hui Ling, James Schamus, Tsai Kuo Jung\\n\\n\\t\\t\\t\\tbased on the novel by\\n\\n\\t\\t\\t\\tWang Du Lu\\n\\nEXT. YUAN COMPOUND - DAY\\n\\nSecurity men and porters are loading wagons for a convoy.\\n\\nAs they work, we see across the lake a lone horse...</td>\n",
       "    </tr>\n",
       "    <tr>\n",
       "      <th>1</th>\n",
       "      <td>file_693.txt</td>\n",
       "      <td>4</td>\n",
       "      <td>\"MUMFORD\"\\n\\n                                      Screenplay by\\n\\n                                     Lawrence Kasdan\\n\\n                                      SHOOTING DRAFT\\n\\n               EXT. MAIN STREET, SMALL TOWN - DAY\\n\\n               A freigh...</td>\n",
       "    </tr>\n",
       "    <tr>\n",
       "      <th>2</th>\n",
       "      <td>file_2469.txt</td>\n",
       "      <td>6</td>\n",
       "      <td>MAX PAYNE\\n\\n                       Written by\\n\\n                  Beau Michael Thorne\\n\\n                                                8/24/2007\\n\\n                                               OVER BLACK:\\n\\n                                MAX'S VOICE\\n\\n            ...</td>\n",
       "    </tr>\n",
       "    <tr>\n",
       "      <th>3</th>\n",
       "      <td>file_2542.txt</td>\n",
       "      <td>6</td>\n",
       "      <td>SLUMDOG MILLIONAIRE\\n\\n                          Written by\\n\\n                         Simon Beaufoy\\n\\n                                             November 4th, 2007\\n\\n SLUMDOG FILMS LIMITED\\n\\n39 LONG ACRE\\n\\nLONDON WC2E 9LG\\n\\n1   INT. JAVED'S SAFE-HOUSE. BATHROOM. NI...</td>\n",
       "    </tr>\n",
       "    <tr>\n",
       "      <th>4</th>\n",
       "      <td>file_378.txt</td>\n",
       "      <td>16</td>\n",
       "      <td>&lt;b&gt;&lt;!--\\n\\n&lt;/b&gt;if (window!= top)\\n\\ntop.location.href=location.href\\n\\n&lt;b&gt;// --&gt;\\n\\n&lt;/b&gt;\\n\\nThe Abyss - by James Cameron \\n\\n                                  THE ABYSS\\n\\n                            AN ORIGINAL SCREENPLAY\\n\\n                                      BY\\n\\n                          ...</td>\n",
       "    </tr>\n",
       "  </tbody>\n",
       "</table>\n",
       "</div>"
      ],
      "text/plain": [
       "       File_Name  Labels  \\\n",
       "0  file_2180.txt       8   \n",
       "1   file_693.txt       4   \n",
       "2  file_2469.txt       6   \n",
       "3  file_2542.txt       6   \n",
       "4   file_378.txt      16   \n",
       "\n",
       "                                                                                                                                                                                                                                                                                                        Script  \n",
       "0  \\t\\t\\tCrouching Tiger, Hidden Dragon\\n\\n\\t\\t\\t\\tby\\n\\n\\tWang Hui Ling, James Schamus, Tsai Kuo Jung\\n\\n\\t\\t\\t\\tbased on the novel by\\n\\n\\t\\t\\t\\tWang Du Lu\\n\\nEXT. YUAN COMPOUND - DAY\\n\\nSecurity men and porters are loading wagons for a convoy.\\n\\nAs they work, we see across the lake a lone horse...  \n",
       "1                                          \"MUMFORD\"\\n\\n                                      Screenplay by\\n\\n                                     Lawrence Kasdan\\n\\n                                      SHOOTING DRAFT\\n\\n               EXT. MAIN STREET, SMALL TOWN - DAY\\n\\n               A freigh...  \n",
       "2                         MAX PAYNE\\n\\n                       Written by\\n\\n                  Beau Michael Thorne\\n\\n                                                8/24/2007\\n\\n                                               OVER BLACK:\\n\\n                                MAX'S VOICE\\n\\n            ...  \n",
       "3                        SLUMDOG MILLIONAIRE\\n\\n                          Written by\\n\\n                         Simon Beaufoy\\n\\n                                             November 4th, 2007\\n\\n SLUMDOG FILMS LIMITED\\n\\n39 LONG ACRE\\n\\nLONDON WC2E 9LG\\n\\n1   INT. JAVED'S SAFE-HOUSE. BATHROOM. NI...  \n",
       "4  <b><!--\\n\\n</b>if (window!= top)\\n\\ntop.location.href=location.href\\n\\n<b>// -->\\n\\n</b>\\n\\nThe Abyss - by James Cameron \\n\\n                                  THE ABYSS\\n\\n                            AN ORIGINAL SCREENPLAY\\n\\n                                      BY\\n\\n                          ...  "
      ]
     },
     "execution_count": 6,
     "metadata": {},
     "output_type": "execute_result"
    }
   ],
   "source": [
    "train.head()"
   ]
  },
  {
   "cell_type": "code",
   "execution_count": 7,
   "metadata": {
    "scrolled": false
   },
   "outputs": [
    {
     "name": "stdout",
     "output_type": "stream",
     "text": [
      "                      SLUMDOG MILLIONAIRE\n",
      "\n",
      "                          Written by\n",
      "\n",
      "                         Simon Beaufoy\n",
      "\n",
      "                                             November 4th, 2007\n",
      "\n",
      " SLUMDOG FILMS LIMITED\n",
      "\n",
      "39 LONG ACRE\n",
      "\n",
      "LONDON WC2E 9LG\n",
      "\n",
      "1   INT. JAVED'S SAFE-HOUSE. BATHROOM. NIGHT.                 1\n",
      "\n",
      "    An expensive bathroom suite. Excess of marble and gold\n",
      "\n",
      "    taps. Into the bath, a hand is scattering rupee notes.\n",
      "\n",
      "    Hundreds and hundreds of notes, worth hundreds of\n",
      "\n",
      "    thousands of rupees. The sound of a fist thumping on\n",
      "\n",
      "    the bathroom door, furious shouting from the other\n",
      "\n",
      "    side.\n",
      "\n",
      "                               JAVED O/S\n",
      "\n",
      "              Salim! Salim!\n",
      "\n",
      "2   INT. STUDIO. BACKSTAGE. DAY.                              2\n",
      "\n",
      "    Darkness. Then, glimpses of faces. In the half-light,\n",
      "\n",
      "    shadowy figures move with purpose. An implacable voice\n",
      "\n",
      "    announces.\n",
      "\n",
      "                            TALKBACK V/O\n",
      "\n",
      "              Ten to white-out, nine, eight,\n",
      "\n",
      "              seven...\n",
      "\n",
      "                               PREM\n",
      "\n",
      "              Are you ready?\n",
      "\n",
      "    Silence. A hand shakes a shoulder a little too roughly.\n",
      "\n",
      "                            PREM (CONT'D)\n",
      "\n",
      "              I said are you ready?\n",
      "\n",
      "                               JAMAL\n",
      "\n",
      "              Yes.\n",
      "\n",
      "3   INT. JAVED'S SAFE-HOUSE. BATHROOM. NIGHT.                 3\n",
      "\n",
      "    The thumping at the door continues. The sound of\n",
      "\n",
      "    mumbled Indian prayer. Dull gleam of a pistol. A hand\n",
      "\n",
      "    cracks the chamber open. Loads a single bullet into the\n",
      "\n",
      "    chamber, snaps the chamber shut.\n",
      "\n",
      "                            TALKBACK V/O\n",
      "\n",
      "              ...three, two, one, zero. Cue\n",
      "\n",
      "              Prem, cue applause...\n",
      "\n",
      "    Suddenly, the door splinters as it is smashed through.\n",
      "\n",
      "    A burst of gun-fire and white light as suddenly...\n",
      "\n",
      "4   INT. STUDIO. NIGHT.                                       4\n",
      "\n",
      "    ...we are back in the studio, the gun-fire morphing\n",
      "\n",
      "    into rapturous applause.\n",
      "\n",
      "                                                  (CONTINUED)\n",
      "\n",
      "                                                                2.\n",
      "\n",
      "4   CONTINUED:                                                       4\n",
      "\n",
      "                                  TALKBACK V/O\n",
      "\n",
      "                 Go, Prem.\n",
      "\n",
      "    A wall of light and noise as the two walk on stage.\n",
      "\n",
      "    Cheering, music, banks of searing studio lights. On\n",
      "\n",
      "    stage, Jamal, an eighteen year-old Indian boy-man\n",
      "\n",
      "    stares, petrified. He would surely turn and run but for\n",
      "\n",
      "    the iron grip on his shoulder of the smiling host, Prem\n",
      "\n",
      "    Kumar.\n",
      "\n",
      "                               PREM\n",
      "\n",
      "                 Welcome to Who Wants To Be A\n",
      "\n",
      "                 Millionaire!\n",
      "\n",
      "    More applause.\n",
      "\n",
      "                               PREM (CONT'D)\n",
      "\n",
      "                 Please give a warm welcome to\n",
      "\n",
      "                 our first contestant of the\n",
      "\n",
      "                 night- a local from our very own\n",
      "\n",
      "                 Mumbai!\n",
      "\n",
      "    Under cover of the wild applause, Prem ushers Jamal\n",
      "\n",
      "    towards the guest's chair, leaning in and hissing.\n",
      "\n",
      "                             \n"
     ]
    }
   ],
   "source": [
    "print(train['Script'][3][:3000])"
   ]
  },
  {
   "cell_type": "code",
   "execution_count": 8,
   "metadata": {},
   "outputs": [],
   "source": [
    "def clean_summary(text):\n",
    "    text = re.sub(\"\\'\", \"\", text)\n",
    "    text = re.sub(\"[^a-zA-Z]\",\" \",text)\n",
    "    text = ' '.join(text.split())\n",
    "    text = text.lower()\n",
    "    text = ' '.join([w for w in text.split() if len(w)>3])\n",
    "    return text"
   ]
  },
  {
   "cell_type": "code",
   "execution_count": 9,
   "metadata": {},
   "outputs": [
    {
     "data": {
      "text/html": [
       "<div>\n",
       "<style scoped>\n",
       "    .dataframe tbody tr th:only-of-type {\n",
       "        vertical-align: middle;\n",
       "    }\n",
       "\n",
       "    .dataframe tbody tr th {\n",
       "        vertical-align: top;\n",
       "    }\n",
       "\n",
       "    .dataframe thead th {\n",
       "        text-align: right;\n",
       "    }\n",
       "</style>\n",
       "<table border=\"1\" class=\"dataframe\">\n",
       "  <thead>\n",
       "    <tr style=\"text-align: right;\">\n",
       "      <th></th>\n",
       "      <th>File_Name</th>\n",
       "      <th>Labels</th>\n",
       "      <th>Script</th>\n",
       "      <th>clean_script</th>\n",
       "    </tr>\n",
       "  </thead>\n",
       "  <tbody>\n",
       "    <tr>\n",
       "      <th>0</th>\n",
       "      <td>file_2180.txt</td>\n",
       "      <td>8</td>\n",
       "      <td>\\t\\t\\tCrouching Tiger, Hidden Dragon\\n\\n\\t\\t\\t\\tby\\n\\n\\tWang Hui Ling, James Schamus, Tsai Kuo Jung\\n\\n\\t\\t\\t\\tbased on the novel by\\n\\n\\t\\t\\t\\tWang Du Lu\\n\\nEXT. YUAN COMPOUND - DAY\\n\\nSecurity men and porters are loading wagons for a convoy.\\n\\nAs they work, we see across the lake a lone horse...</td>\n",
       "      <td>crouching tiger hidden dragon wang ling james schamus tsai jung based novel wang yuan compound security porters loading wagons convoy they work across lake lone horseman entering village recognizes worker master here angle thirties powerful handsome background aunt sight drops parcels runs excit...</td>\n",
       "    </tr>\n",
       "    <tr>\n",
       "      <th>1</th>\n",
       "      <td>file_693.txt</td>\n",
       "      <td>4</td>\n",
       "      <td>\"MUMFORD\"\\n\\n                                      Screenplay by\\n\\n                                     Lawrence Kasdan\\n\\n                                      SHOOTING DRAFT\\n\\n               EXT. MAIN STREET, SMALL TOWN - DAY\\n\\n               A freigh...</td>\n",
       "      <td>mumford screenplay lawrence kasdan shooting draft main street small town freight truck late vintage pulls side road small rural town handsome well built gets passenger side thanks driver newcomer carries coat over shoulder beat suitcase modified pompadour shirtsleeves rolled past biceps wipes br...</td>\n",
       "    </tr>\n",
       "  </tbody>\n",
       "</table>\n",
       "</div>"
      ],
      "text/plain": [
       "       File_Name  Labels  \\\n",
       "0  file_2180.txt       8   \n",
       "1   file_693.txt       4   \n",
       "\n",
       "                                                                                                                                                                                                                                                                                                        Script  \\\n",
       "0  \\t\\t\\tCrouching Tiger, Hidden Dragon\\n\\n\\t\\t\\t\\tby\\n\\n\\tWang Hui Ling, James Schamus, Tsai Kuo Jung\\n\\n\\t\\t\\t\\tbased on the novel by\\n\\n\\t\\t\\t\\tWang Du Lu\\n\\nEXT. YUAN COMPOUND - DAY\\n\\nSecurity men and porters are loading wagons for a convoy.\\n\\nAs they work, we see across the lake a lone horse...   \n",
       "1                                          \"MUMFORD\"\\n\\n                                      Screenplay by\\n\\n                                     Lawrence Kasdan\\n\\n                                      SHOOTING DRAFT\\n\\n               EXT. MAIN STREET, SMALL TOWN - DAY\\n\\n               A freigh...   \n",
       "\n",
       "                                                                                                                                                                                                                                                                                                  clean_script  \n",
       "0  crouching tiger hidden dragon wang ling james schamus tsai jung based novel wang yuan compound security porters loading wagons convoy they work across lake lone horseman entering village recognizes worker master here angle thirties powerful handsome background aunt sight drops parcels runs excit...  \n",
       "1  mumford screenplay lawrence kasdan shooting draft main street small town freight truck late vintage pulls side road small rural town handsome well built gets passenger side thanks driver newcomer carries coat over shoulder beat suitcase modified pompadour shirtsleeves rolled past biceps wipes br...  "
      ]
     },
     "execution_count": 9,
     "metadata": {},
     "output_type": "execute_result"
    }
   ],
   "source": [
    "train['clean_script'] = train['Script'].apply(lambda x: clean_summary(x))\n",
    "train.head(2)"
   ]
  },
  {
   "cell_type": "code",
   "execution_count": 10,
   "metadata": {},
   "outputs": [
    {
     "data": {
      "text/html": [
       "<div>\n",
       "<style scoped>\n",
       "    .dataframe tbody tr th:only-of-type {\n",
       "        vertical-align: middle;\n",
       "    }\n",
       "\n",
       "    .dataframe tbody tr th {\n",
       "        vertical-align: top;\n",
       "    }\n",
       "\n",
       "    .dataframe thead th {\n",
       "        text-align: right;\n",
       "    }\n",
       "</style>\n",
       "<table border=\"1\" class=\"dataframe\">\n",
       "  <thead>\n",
       "    <tr style=\"text-align: right;\">\n",
       "      <th></th>\n",
       "      <th>File_Name</th>\n",
       "      <th>Labels</th>\n",
       "      <th>Script</th>\n",
       "      <th>clean_script</th>\n",
       "    </tr>\n",
       "  </thead>\n",
       "  <tbody>\n",
       "    <tr>\n",
       "      <th>0</th>\n",
       "      <td>file_2180.txt</td>\n",
       "      <td>8</td>\n",
       "      <td>\\t\\t\\tCrouching Tiger, Hidden Dragon\\n\\n\\t\\t\\t\\tby\\n\\n\\tWang Hui Ling, James Schamus, Tsai Kuo Jung\\n\\n\\t\\t\\t\\tbased on the novel by\\n\\n\\t\\t\\t\\tWang Du Lu\\n\\nEXT. YUAN COMPOUND - DAY\\n\\nSecurity men and porters are loading wagons for a convoy.\\n\\nAs they work, we see across the lake a lone horse...</td>\n",
       "      <td>crouching tiger hidden dragon wang ling james schamus tsai jung based novel wang yuan compound security porters loading wagons convoy work across lake lone horseman entering village recognizes worker master angle thirties powerful handsome background aunt sight drops parcels runs excitedly build...</td>\n",
       "    </tr>\n",
       "    <tr>\n",
       "      <th>1</th>\n",
       "      <td>file_693.txt</td>\n",
       "      <td>4</td>\n",
       "      <td>\"MUMFORD\"\\n\\n                                      Screenplay by\\n\\n                                     Lawrence Kasdan\\n\\n                                      SHOOTING DRAFT\\n\\n               EXT. MAIN STREET, SMALL TOWN - DAY\\n\\n               A freigh...</td>\n",
       "      <td>mumford screenplay lawrence kasdan shooting draft main street small town freight truck late vintage pulls side road small rural town handsome well built gets passenger side thanks driver newcomer carries coat shoulder beat suitcase modified pompadour shirtsleeves rolled past biceps wipes brow sw...</td>\n",
       "    </tr>\n",
       "  </tbody>\n",
       "</table>\n",
       "</div>"
      ],
      "text/plain": [
       "       File_Name  Labels  \\\n",
       "0  file_2180.txt       8   \n",
       "1   file_693.txt       4   \n",
       "\n",
       "                                                                                                                                                                                                                                                                                                        Script  \\\n",
       "0  \\t\\t\\tCrouching Tiger, Hidden Dragon\\n\\n\\t\\t\\t\\tby\\n\\n\\tWang Hui Ling, James Schamus, Tsai Kuo Jung\\n\\n\\t\\t\\t\\tbased on the novel by\\n\\n\\t\\t\\t\\tWang Du Lu\\n\\nEXT. YUAN COMPOUND - DAY\\n\\nSecurity men and porters are loading wagons for a convoy.\\n\\nAs they work, we see across the lake a lone horse...   \n",
       "1                                          \"MUMFORD\"\\n\\n                                      Screenplay by\\n\\n                                     Lawrence Kasdan\\n\\n                                      SHOOTING DRAFT\\n\\n               EXT. MAIN STREET, SMALL TOWN - DAY\\n\\n               A freigh...   \n",
       "\n",
       "                                                                                                                                                                                                                                                                                                  clean_script  \n",
       "0  crouching tiger hidden dragon wang ling james schamus tsai jung based novel wang yuan compound security porters loading wagons convoy work across lake lone horseman entering village recognizes worker master angle thirties powerful handsome background aunt sight drops parcels runs excitedly build...  \n",
       "1  mumford screenplay lawrence kasdan shooting draft main street small town freight truck late vintage pulls side road small rural town handsome well built gets passenger side thanks driver newcomer carries coat shoulder beat suitcase modified pompadour shirtsleeves rolled past biceps wipes brow sw...  "
      ]
     },
     "execution_count": 10,
     "metadata": {},
     "output_type": "execute_result"
    }
   ],
   "source": [
    "from nltk.corpus import stopwords\n",
    "stop_words = set(stopwords.words('english'))\n",
    "def remove_stopwords(text):\n",
    "    no_stopword_text = [w for w in text.split() if not w in stop_words]\n",
    "    return ' '.join(no_stopword_text)\n",
    "train['clean_script'] = train['clean_script'].apply(lambda x: remove_stopwords(x))\n",
    "train.head(2)"
   ]
  },
  {
   "cell_type": "code",
   "execution_count": 11,
   "metadata": {},
   "outputs": [
    {
     "data": {
      "text/plain": [
       "6     405\n",
       "19    261\n",
       "4     243\n",
       "0     203\n",
       "5     141\n",
       "15    134\n",
       "1     116\n",
       "16    109\n",
       "11    104\n",
       "8      79\n",
       "14     75\n",
       "7      27\n",
       "2      25\n",
       "20     18\n",
       "13     15\n",
       "21      9\n",
       "12      4\n",
       "9       3\n",
       "3       2\n",
       "17      2\n",
       "10      2\n",
       "18      1\n",
       "Name: Labels, dtype: int64"
      ]
     },
     "execution_count": 11,
     "metadata": {},
     "output_type": "execute_result"
    }
   ],
   "source": [
    "train['Labels'].value_counts()"
   ]
  },
  {
   "cell_type": "code",
   "execution_count": 12,
   "metadata": {},
   "outputs": [
    {
     "data": {
      "text/html": [
       "<div>\n",
       "<style scoped>\n",
       "    .dataframe tbody tr th:only-of-type {\n",
       "        vertical-align: middle;\n",
       "    }\n",
       "\n",
       "    .dataframe tbody tr th {\n",
       "        vertical-align: top;\n",
       "    }\n",
       "\n",
       "    .dataframe thead th {\n",
       "        text-align: right;\n",
       "    }\n",
       "</style>\n",
       "<table border=\"1\" class=\"dataframe\">\n",
       "  <thead>\n",
       "    <tr style=\"text-align: right;\">\n",
       "      <th></th>\n",
       "      <th>File_Name</th>\n",
       "      <th>Labels</th>\n",
       "      <th>Script</th>\n",
       "      <th>clean_script</th>\n",
       "    </tr>\n",
       "  </thead>\n",
       "  <tbody>\n",
       "    <tr>\n",
       "      <th>0</th>\n",
       "      <td>file_2180.txt</td>\n",
       "      <td>8</td>\n",
       "      <td>\\t\\t\\tCrouching Tiger, Hidden Dragon\\n\\n\\t\\t\\t\\tby\\n\\n\\tWang Hui Ling, James Schamus, Tsai Kuo Jung\\n\\n\\t\\t\\t\\tbased on the novel by\\n\\n\\t\\t\\t\\tWang Du Lu\\n\\nEXT. YUAN COMPOUND - DAY\\n\\nSecurity men and porters are loading wagons for a convoy.\\n\\nAs they work, we see across the lake a lone horse...</td>\n",
       "      <td>crouching tiger hidden dragon wang ling james schamus tsai jung based novel wang yuan compound security porters loading wagons convoy work across lake lone horseman entering village recognizes worker master angle thirties powerful handsome background aunt sight drops parcels runs excitedly build...</td>\n",
       "    </tr>\n",
       "    <tr>\n",
       "      <th>1</th>\n",
       "      <td>file_693.txt</td>\n",
       "      <td>4</td>\n",
       "      <td>\"MUMFORD\"\\n\\n                                      Screenplay by\\n\\n                                     Lawrence Kasdan\\n\\n                                      SHOOTING DRAFT\\n\\n               EXT. MAIN STREET, SMALL TOWN - DAY\\n\\n               A freigh...</td>\n",
       "      <td>mumford screenplay lawrence kasdan shooting draft main street small town freight truck late vintage pulls side road small rural town handsome well built gets passenger side thanks driver newcomer carries coat shoulder beat suitcase modified pompadour shirtsleeves rolled past biceps wipes brow sw...</td>\n",
       "    </tr>\n",
       "    <tr>\n",
       "      <th>2</th>\n",
       "      <td>file_2469.txt</td>\n",
       "      <td>6</td>\n",
       "      <td>MAX PAYNE\\n\\n                       Written by\\n\\n                  Beau Michael Thorne\\n\\n                                                8/24/2007\\n\\n                                               OVER BLACK:\\n\\n                                MAX'S VOICE\\n\\n            ...</td>\n",
       "      <td>payne written beau michael thorne black maxs voice dont believe heaven idea something heard song fade white pristine empty frame clean peaceful maxs voice heaven place nothing ever happens theres gentle motion blank frame like swirling grain rumble starts build growing louder grain moves faster ...</td>\n",
       "    </tr>\n",
       "    <tr>\n",
       "      <th>3</th>\n",
       "      <td>file_2542.txt</td>\n",
       "      <td>6</td>\n",
       "      <td>SLUMDOG MILLIONAIRE\\n\\n                          Written by\\n\\n                         Simon Beaufoy\\n\\n                                             November 4th, 2007\\n\\n SLUMDOG FILMS LIMITED\\n\\n39 LONG ACRE\\n\\nLONDON WC2E 9LG\\n\\n1   INT. JAVED'S SAFE-HOUSE. BATHROOM. NI...</td>\n",
       "      <td>slumdog millionaire written simon beaufoy november slumdog films limited long acre london javeds safe house bathroom night expensive bathroom suite excess marble gold taps bath hand scattering rupee notes hundreds hundreds notes worth hundreds thousands rupees sound fist thumping bathroom door f...</td>\n",
       "    </tr>\n",
       "    <tr>\n",
       "      <th>4</th>\n",
       "      <td>file_378.txt</td>\n",
       "      <td>16</td>\n",
       "      <td>&lt;b&gt;&lt;!--\\n\\n&lt;/b&gt;if (window!= top)\\n\\ntop.location.href=location.href\\n\\n&lt;b&gt;// --&gt;\\n\\n&lt;/b&gt;\\n\\nThe Abyss - by James Cameron \\n\\n                                  THE ABYSS\\n\\n                            AN ORIGINAL SCREENPLAY\\n\\n                                      BY\\n\\n                          ...</td>\n",
       "      <td>window location href location href abyss james cameron abyss original screenplay james cameron august directors revision abyss omitted omitted title abyss black dissolving cobalt blue ocean underwater blue deep featureless twilight five hundred feet propeller sound materializing blue limbo enorm...</td>\n",
       "    </tr>\n",
       "  </tbody>\n",
       "</table>\n",
       "</div>"
      ],
      "text/plain": [
       "       File_Name  Labels  \\\n",
       "0  file_2180.txt       8   \n",
       "1   file_693.txt       4   \n",
       "2  file_2469.txt       6   \n",
       "3  file_2542.txt       6   \n",
       "4   file_378.txt      16   \n",
       "\n",
       "                                                                                                                                                                                                                                                                                                        Script  \\\n",
       "0  \\t\\t\\tCrouching Tiger, Hidden Dragon\\n\\n\\t\\t\\t\\tby\\n\\n\\tWang Hui Ling, James Schamus, Tsai Kuo Jung\\n\\n\\t\\t\\t\\tbased on the novel by\\n\\n\\t\\t\\t\\tWang Du Lu\\n\\nEXT. YUAN COMPOUND - DAY\\n\\nSecurity men and porters are loading wagons for a convoy.\\n\\nAs they work, we see across the lake a lone horse...   \n",
       "1                                          \"MUMFORD\"\\n\\n                                      Screenplay by\\n\\n                                     Lawrence Kasdan\\n\\n                                      SHOOTING DRAFT\\n\\n               EXT. MAIN STREET, SMALL TOWN - DAY\\n\\n               A freigh...   \n",
       "2                         MAX PAYNE\\n\\n                       Written by\\n\\n                  Beau Michael Thorne\\n\\n                                                8/24/2007\\n\\n                                               OVER BLACK:\\n\\n                                MAX'S VOICE\\n\\n            ...   \n",
       "3                        SLUMDOG MILLIONAIRE\\n\\n                          Written by\\n\\n                         Simon Beaufoy\\n\\n                                             November 4th, 2007\\n\\n SLUMDOG FILMS LIMITED\\n\\n39 LONG ACRE\\n\\nLONDON WC2E 9LG\\n\\n1   INT. JAVED'S SAFE-HOUSE. BATHROOM. NI...   \n",
       "4  <b><!--\\n\\n</b>if (window!= top)\\n\\ntop.location.href=location.href\\n\\n<b>// -->\\n\\n</b>\\n\\nThe Abyss - by James Cameron \\n\\n                                  THE ABYSS\\n\\n                            AN ORIGINAL SCREENPLAY\\n\\n                                      BY\\n\\n                          ...   \n",
       "\n",
       "                                                                                                                                                                                                                                                                                                  clean_script  \n",
       "0  crouching tiger hidden dragon wang ling james schamus tsai jung based novel wang yuan compound security porters loading wagons convoy work across lake lone horseman entering village recognizes worker master angle thirties powerful handsome background aunt sight drops parcels runs excitedly build...  \n",
       "1  mumford screenplay lawrence kasdan shooting draft main street small town freight truck late vintage pulls side road small rural town handsome well built gets passenger side thanks driver newcomer carries coat shoulder beat suitcase modified pompadour shirtsleeves rolled past biceps wipes brow sw...  \n",
       "2  payne written beau michael thorne black maxs voice dont believe heaven idea something heard song fade white pristine empty frame clean peaceful maxs voice heaven place nothing ever happens theres gentle motion blank frame like swirling grain rumble starts build growing louder grain moves faster ...  \n",
       "3  slumdog millionaire written simon beaufoy november slumdog films limited long acre london javeds safe house bathroom night expensive bathroom suite excess marble gold taps bath hand scattering rupee notes hundreds hundreds notes worth hundreds thousands rupees sound fist thumping bathroom door f...  \n",
       "4  window location href location href abyss james cameron abyss original screenplay james cameron august directors revision abyss omitted omitted title abyss black dissolving cobalt blue ocean underwater blue deep featureless twilight five hundred feet propeller sound materializing blue limbo enorm...  "
      ]
     },
     "execution_count": 12,
     "metadata": {},
     "output_type": "execute_result"
    }
   ],
   "source": [
    "train.head()"
   ]
  },
  {
   "cell_type": "code",
   "execution_count": 13,
   "metadata": {},
   "outputs": [],
   "source": [
    "test['clean_script'] = test['Script'].apply(lambda x: clean_summary(x))\n",
    "test['clean_script'] = test['clean_script'].apply(lambda x: remove_stopwords(x))"
   ]
  },
  {
   "cell_type": "code",
   "execution_count": 14,
   "metadata": {},
   "outputs": [],
   "source": [
    "from sklearn.feature_extraction.text import TfidfVectorizer\n",
    "from sklearn.model_selection import train_test_split\n",
    "from sklearn.linear_model import LogisticRegression"
   ]
  },
  {
   "cell_type": "code",
   "execution_count": 15,
   "metadata": {},
   "outputs": [],
   "source": [
    "y = train['Labels']"
   ]
  },
  {
   "cell_type": "code",
   "execution_count": 16,
   "metadata": {},
   "outputs": [],
   "source": [
    "x_train, x_val, ytrain, yval = train_test_split(train.clean_script.values, y, \n",
    "                                                random_state=2020, \n",
    "                                                test_size=0.1, shuffle=True)"
   ]
  },
  {
   "cell_type": "code",
   "execution_count": 17,
   "metadata": {},
   "outputs": [],
   "source": [
    "def multiclass_logloss(actual, predicted, eps=1e-15):\n",
    "    if len(actual.shape) == 1:\n",
    "        actual2 = np.zeros((actual.shape[0], predicted.shape[1]))\n",
    "        for i, val in enumerate(actual):\n",
    "            actual2[i, val] = 1\n",
    "        actual = actual2\n",
    "\n",
    "    clip = np.clip(predicted, eps, 1 - eps)\n",
    "    rows = actual.shape[0]\n",
    "    vsota = np.sum(actual * np.log(clip))\n",
    "    return -1.0 / rows * vsota"
   ]
  },
  {
   "cell_type": "code",
   "execution_count": 18,
   "metadata": {},
   "outputs": [],
   "source": [
    "tfidf_vectorizer = TfidfVectorizer(max_df=0.9, max_features=4000)\n",
    "tfidf_vectorizer.fit(list(x_train) + list(x_val))\n",
    "xtrain = tfidf_vectorizer.transform(x_train)\n",
    "xval = tfidf_vectorizer.transform(x_val)"
   ]
  },
  {
   "cell_type": "code",
   "execution_count": 19,
   "metadata": {},
   "outputs": [],
   "source": [
    "xtest = tfidf_vectorizer.transform(test.clean_script.values)"
   ]
  },
  {
   "cell_type": "code",
   "execution_count": 20,
   "metadata": {},
   "outputs": [
    {
     "data": {
      "text/plain": [
       "((1780, 4000), (198, 4000))"
      ]
     },
     "execution_count": 20,
     "metadata": {},
     "output_type": "execute_result"
    }
   ],
   "source": [
    "xtrain.shape, xval.shape"
   ]
  },
  {
   "cell_type": "code",
   "execution_count": 21,
   "metadata": {},
   "outputs": [
    {
     "name": "stderr",
     "output_type": "stream",
     "text": [
      "C:\\Users\\hungu\\anaconda.x\\lib\\site-packages\\sklearn\\linear_model\\logistic.py:433: FutureWarning: Default solver will be changed to 'lbfgs' in 0.22. Specify a solver to silence this warning.\n",
      "  FutureWarning)\n",
      "C:\\Users\\hungu\\anaconda.x\\lib\\site-packages\\sklearn\\linear_model\\logistic.py:460: FutureWarning: Default multi_class will be changed to 'auto' in 0.22. Specify the multi_class option to silence this warning.\n",
      "  \"this warning.\", FutureWarning)\n"
     ]
    },
    {
     "data": {
      "text/plain": [
       "LogisticRegression(C=1.0, class_weight=None, dual=False, fit_intercept=True,\n",
       "          intercept_scaling=1, max_iter=100, multi_class='warn',\n",
       "          n_jobs=None, penalty='l2', random_state=None, solver='warn',\n",
       "          tol=0.0001, verbose=0, warm_start=False)"
      ]
     },
     "execution_count": 21,
     "metadata": {},
     "output_type": "execute_result"
    }
   ],
   "source": [
    "model = LogisticRegression()\n",
    "model.fit(xtrain, ytrain)"
   ]
  },
  {
   "cell_type": "code",
   "execution_count": 22,
   "metadata": {},
   "outputs": [
    {
     "name": "stdout",
     "output_type": "stream",
     "text": [
      "2.4684748812229613\n"
     ]
    }
   ],
   "source": [
    "pred_prob = model.predict_proba(xval)\n",
    "print(multiclass_logloss(yval, pred_prob))"
   ]
  },
  {
   "cell_type": "code",
   "execution_count": 23,
   "metadata": {},
   "outputs": [],
   "source": [
    "pred_test = model.predict_proba(xtest)"
   ]
  },
  {
   "cell_type": "code",
   "execution_count": 24,
   "metadata": {},
   "outputs": [
    {
     "data": {
      "text/html": [
       "<div>\n",
       "<style scoped>\n",
       "    .dataframe tbody tr th:only-of-type {\n",
       "        vertical-align: middle;\n",
       "    }\n",
       "\n",
       "    .dataframe tbody tr th {\n",
       "        vertical-align: top;\n",
       "    }\n",
       "\n",
       "    .dataframe thead th {\n",
       "        text-align: right;\n",
       "    }\n",
       "</style>\n",
       "<table border=\"1\" class=\"dataframe\">\n",
       "  <thead>\n",
       "    <tr style=\"text-align: right;\">\n",
       "      <th></th>\n",
       "      <th>File_Name</th>\n",
       "      <th>0</th>\n",
       "      <th>1</th>\n",
       "      <th>2</th>\n",
       "      <th>3</th>\n",
       "      <th>4</th>\n",
       "      <th>5</th>\n",
       "      <th>6</th>\n",
       "      <th>7</th>\n",
       "      <th>8</th>\n",
       "      <th>...</th>\n",
       "      <th>12</th>\n",
       "      <th>13</th>\n",
       "      <th>14</th>\n",
       "      <th>15</th>\n",
       "      <th>16</th>\n",
       "      <th>17</th>\n",
       "      <th>18</th>\n",
       "      <th>19</th>\n",
       "      <th>20</th>\n",
       "      <th>21</th>\n",
       "    </tr>\n",
       "  </thead>\n",
       "  <tbody>\n",
       "    <tr>\n",
       "      <th>0</th>\n",
       "      <td>file_2300.txt</td>\n",
       "      <td>0.073854</td>\n",
       "      <td>0.065360</td>\n",
       "      <td>0.020427</td>\n",
       "      <td>0.004135</td>\n",
       "      <td>0.106531</td>\n",
       "      <td>0.049564</td>\n",
       "      <td>0.200447</td>\n",
       "      <td>0.017628</td>\n",
       "      <td>0.038172</td>\n",
       "      <td>...</td>\n",
       "      <td>0.004564</td>\n",
       "      <td>0.010047</td>\n",
       "      <td>0.054706</td>\n",
       "      <td>0.075976</td>\n",
       "      <td>0.049098</td>\n",
       "      <td>0.004140</td>\n",
       "      <td>0.003683</td>\n",
       "      <td>0.155705</td>\n",
       "      <td>0.011875</td>\n",
       "      <td>0.007012</td>\n",
       "    </tr>\n",
       "    <tr>\n",
       "      <th>1</th>\n",
       "      <td>file_809.txt</td>\n",
       "      <td>0.063606</td>\n",
       "      <td>0.049373</td>\n",
       "      <td>0.015267</td>\n",
       "      <td>0.004082</td>\n",
       "      <td>0.166357</td>\n",
       "      <td>0.056085</td>\n",
       "      <td>0.186819</td>\n",
       "      <td>0.027055</td>\n",
       "      <td>0.031936</td>\n",
       "      <td>...</td>\n",
       "      <td>0.004513</td>\n",
       "      <td>0.009824</td>\n",
       "      <td>0.035505</td>\n",
       "      <td>0.100017</td>\n",
       "      <td>0.048324</td>\n",
       "      <td>0.004098</td>\n",
       "      <td>0.003661</td>\n",
       "      <td>0.119776</td>\n",
       "      <td>0.012132</td>\n",
       "      <td>0.006866</td>\n",
       "    </tr>\n",
       "    <tr>\n",
       "      <th>2</th>\n",
       "      <td>file_1383.txt</td>\n",
       "      <td>0.100963</td>\n",
       "      <td>0.162501</td>\n",
       "      <td>0.012709</td>\n",
       "      <td>0.003921</td>\n",
       "      <td>0.071993</td>\n",
       "      <td>0.045790</td>\n",
       "      <td>0.089394</td>\n",
       "      <td>0.013860</td>\n",
       "      <td>0.029686</td>\n",
       "      <td>...</td>\n",
       "      <td>0.004432</td>\n",
       "      <td>0.009189</td>\n",
       "      <td>0.028226</td>\n",
       "      <td>0.085389</td>\n",
       "      <td>0.204576</td>\n",
       "      <td>0.003916</td>\n",
       "      <td>0.003456</td>\n",
       "      <td>0.066253</td>\n",
       "      <td>0.011023</td>\n",
       "      <td>0.006603</td>\n",
       "    </tr>\n",
       "    <tr>\n",
       "      <th>3</th>\n",
       "      <td>file_983.txt</td>\n",
       "      <td>0.079201</td>\n",
       "      <td>0.056495</td>\n",
       "      <td>0.012650</td>\n",
       "      <td>0.003927</td>\n",
       "      <td>0.117540</td>\n",
       "      <td>0.060903</td>\n",
       "      <td>0.191975</td>\n",
       "      <td>0.012995</td>\n",
       "      <td>0.030074</td>\n",
       "      <td>...</td>\n",
       "      <td>0.004362</td>\n",
       "      <td>0.009347</td>\n",
       "      <td>0.032780</td>\n",
       "      <td>0.055562</td>\n",
       "      <td>0.039627</td>\n",
       "      <td>0.003920</td>\n",
       "      <td>0.003449</td>\n",
       "      <td>0.216454</td>\n",
       "      <td>0.011127</td>\n",
       "      <td>0.006647</td>\n",
       "    </tr>\n",
       "    <tr>\n",
       "      <th>4</th>\n",
       "      <td>file_1713.txt</td>\n",
       "      <td>0.153005</td>\n",
       "      <td>0.116929</td>\n",
       "      <td>0.015789</td>\n",
       "      <td>0.004008</td>\n",
       "      <td>0.096903</td>\n",
       "      <td>0.053013</td>\n",
       "      <td>0.191548</td>\n",
       "      <td>0.017948</td>\n",
       "      <td>0.039022</td>\n",
       "      <td>...</td>\n",
       "      <td>0.004410</td>\n",
       "      <td>0.011402</td>\n",
       "      <td>0.029777</td>\n",
       "      <td>0.057831</td>\n",
       "      <td>0.048662</td>\n",
       "      <td>0.004091</td>\n",
       "      <td>0.003563</td>\n",
       "      <td>0.081176</td>\n",
       "      <td>0.011415</td>\n",
       "      <td>0.006692</td>\n",
       "    </tr>\n",
       "  </tbody>\n",
       "</table>\n",
       "<p>5 rows × 23 columns</p>\n",
       "</div>"
      ],
      "text/plain": [
       "       File_Name         0         1         2         3         4         5  \\\n",
       "0  file_2300.txt  0.073854  0.065360  0.020427  0.004135  0.106531  0.049564   \n",
       "1   file_809.txt  0.063606  0.049373  0.015267  0.004082  0.166357  0.056085   \n",
       "2  file_1383.txt  0.100963  0.162501  0.012709  0.003921  0.071993  0.045790   \n",
       "3   file_983.txt  0.079201  0.056495  0.012650  0.003927  0.117540  0.060903   \n",
       "4  file_1713.txt  0.153005  0.116929  0.015789  0.004008  0.096903  0.053013   \n",
       "\n",
       "          6         7         8  ...        12        13        14        15  \\\n",
       "0  0.200447  0.017628  0.038172  ...  0.004564  0.010047  0.054706  0.075976   \n",
       "1  0.186819  0.027055  0.031936  ...  0.004513  0.009824  0.035505  0.100017   \n",
       "2  0.089394  0.013860  0.029686  ...  0.004432  0.009189  0.028226  0.085389   \n",
       "3  0.191975  0.012995  0.030074  ...  0.004362  0.009347  0.032780  0.055562   \n",
       "4  0.191548  0.017948  0.039022  ...  0.004410  0.011402  0.029777  0.057831   \n",
       "\n",
       "         16        17        18        19        20        21  \n",
       "0  0.049098  0.004140  0.003683  0.155705  0.011875  0.007012  \n",
       "1  0.048324  0.004098  0.003661  0.119776  0.012132  0.006866  \n",
       "2  0.204576  0.003916  0.003456  0.066253  0.011023  0.006603  \n",
       "3  0.039627  0.003920  0.003449  0.216454  0.011127  0.006647  \n",
       "4  0.048662  0.004091  0.003563  0.081176  0.011415  0.006692  \n",
       "\n",
       "[5 rows x 23 columns]"
      ]
     },
     "execution_count": 24,
     "metadata": {},
     "output_type": "execute_result"
    }
   ],
   "source": [
    "submission = pd.DataFrame(pred_test)\n",
    "submission.insert(0, 'File_Name', test.File_Name)\n",
    "submission.head()"
   ]
  },
  {
   "cell_type": "code",
   "execution_count": 25,
   "metadata": {
    "scrolled": true
   },
   "outputs": [],
   "source": [
    "submission.to_excel('Submission.xlsx', index=False)"
   ]
  }
 ],
 "metadata": {
  "kernelspec": {
   "display_name": "Python 3",
   "language": "python",
   "name": "python3"
  },
  "language_info": {
   "codemirror_mode": {
    "name": "ipython",
    "version": 3
   },
   "file_extension": ".py",
   "mimetype": "text/x-python",
   "name": "python",
   "nbconvert_exporter": "python",
   "pygments_lexer": "ipython3",
   "version": "3.7.3"
  }
 },
 "nbformat": 4,
 "nbformat_minor": 2
}
