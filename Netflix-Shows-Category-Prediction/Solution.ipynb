{
 "cells": [
  {
   "cell_type": "code",
   "execution_count": 1,
   "metadata": {
    "_cell_guid": "b1076dfc-b9ad-4769-8c92-a6c4dae69d19",
    "_uuid": "8f2839f25d086af736a60e9eeb907d3b93b6e0e5"
   },
   "outputs": [],
   "source": [
    "import pandas as pd\n",
    "import numpy as np\n",
    "\n",
    "import nltk\n",
    "import re\n",
    "import csv\n",
    "\n",
    "import warnings\n",
    "warnings.filterwarnings('ignore', message=r'Label not .* is present in all training examples.')\n",
    "\n",
    "pd.set_option('display.max_colwidth', 300)"
   ]
  },
  {
   "cell_type": "code",
   "execution_count": 2,
   "metadata": {},
   "outputs": [],
   "source": [
    "from sklearn.feature_extraction.text import TfidfVectorizer\n",
    "\n",
    "from sklearn.model_selection import train_test_split\n",
    "\n",
    "from sklearn.preprocessing import MultiLabelBinarizer\n",
    "\n",
    "from sklearn.linear_model import LogisticRegression\n",
    "from sklearn.tree import DecisionTreeClassifier\n",
    "from sklearn.multiclass import OneVsRestClassifier\n",
    "\n",
    "from sklearn.metrics import f1_score, accuracy_score"
   ]
  },
  {
   "cell_type": "code",
   "execution_count": 3,
   "metadata": {
    "_cell_guid": "79c7e3d0-c299-4dcb-8224-4455121ee9b0",
    "_uuid": "d629ff2d2480ee46fbb7e2d37f6b5fab8052498a"
   },
   "outputs": [],
   "source": [
    "data = pd.read_csv('../input/netflix-shows/netflix_titles_nov_2019.csv')\n",
    "data.head(1)\n",
    "\n",
    "data = data[['title', 'description', 'listed_in']]"
   ]
  },
  {
   "cell_type": "code",
   "execution_count": 4,
   "metadata": {},
   "outputs": [
    {
     "data": {
      "text/html": [
       "<div>\n",
       "<style scoped>\n",
       "    .dataframe tbody tr th:only-of-type {\n",
       "        vertical-align: middle;\n",
       "    }\n",
       "\n",
       "    .dataframe tbody tr th {\n",
       "        vertical-align: top;\n",
       "    }\n",
       "\n",
       "    .dataframe thead th {\n",
       "        text-align: right;\n",
       "    }\n",
       "</style>\n",
       "<table border=\"1\" class=\"dataframe\">\n",
       "  <thead>\n",
       "    <tr style=\"text-align: right;\">\n",
       "      <th></th>\n",
       "      <th>title</th>\n",
       "      <th>description</th>\n",
       "      <th>listed_in</th>\n",
       "    </tr>\n",
       "  </thead>\n",
       "  <tbody>\n",
       "    <tr>\n",
       "      <th>0</th>\n",
       "      <td>Chocolate</td>\n",
       "      <td>Brought together meaningful meals past present, doctor chef reacquainted begin working hospice ward.</td>\n",
       "      <td>International TV Shows, Korean TV Shows, Romantic TV Shows</td>\n",
       "    </tr>\n",
       "  </tbody>\n",
       "</table>\n",
       "</div>"
      ],
      "text/plain": [
       "       title  \\\n",
       "0  Chocolate   \n",
       "\n",
       "                                                                                            description  \\\n",
       "0  Brought together meaningful meals past present, doctor chef reacquainted begin working hospice ward.   \n",
       "\n",
       "                                                    listed_in  \n",
       "0  International TV Shows, Korean TV Shows, Romantic TV Shows  "
      ]
     },
     "execution_count": 4,
     "metadata": {},
     "output_type": "execute_result"
    }
   ],
   "source": [
    "from nltk.corpus import stopwords\n",
    "stop_words = set(stopwords.words('english'))\n",
    "def remove_stopwords(text):\n",
    "    no_stpwrd_txt = [w for w in text.split() if not w in stop_words]\n",
    "    return ' '.join(no_stpwrd_txt)\n",
    "\n",
    "data['description'] = data['description'].apply(lambda x: remove_stopwords(x))\n",
    "data.head(1)"
   ]
  },
  {
   "cell_type": "code",
   "execution_count": 5,
   "metadata": {},
   "outputs": [
    {
     "data": {
      "text/html": [
       "<div>\n",
       "<style scoped>\n",
       "    .dataframe tbody tr th:only-of-type {\n",
       "        vertical-align: middle;\n",
       "    }\n",
       "\n",
       "    .dataframe tbody tr th {\n",
       "        vertical-align: top;\n",
       "    }\n",
       "\n",
       "    .dataframe thead th {\n",
       "        text-align: right;\n",
       "    }\n",
       "</style>\n",
       "<table border=\"1\" class=\"dataframe\">\n",
       "  <thead>\n",
       "    <tr style=\"text-align: right;\">\n",
       "      <th></th>\n",
       "      <th>title</th>\n",
       "      <th>description</th>\n",
       "      <th>listed_in</th>\n",
       "    </tr>\n",
       "  </thead>\n",
       "  <tbody>\n",
       "    <tr>\n",
       "      <th>0</th>\n",
       "      <td>Chocolate</td>\n",
       "      <td>Brought together meaningful meals past present, doctor chef reacquainted begin working hospice ward.</td>\n",
       "      <td>[International TV Shows,  Korean TV Shows,  Romantic TV Shows]</td>\n",
       "    </tr>\n",
       "    <tr>\n",
       "      <th>1</th>\n",
       "      <td>Guatemala: Heart of the Mayan World</td>\n",
       "      <td>From Sierra de las Minas Esquipulas, explore Guatemala's cultural geological wealth, including ancient Mayan cities natural wonders.</td>\n",
       "      <td>[Documentaries,  International Movies]</td>\n",
       "    </tr>\n",
       "    <tr>\n",
       "      <th>2</th>\n",
       "      <td>The Zoya Factor</td>\n",
       "      <td>A goofy copywriter unwittingly convinces Indian cricket team she’s lucky mascot, dismay superstition-shunning captain.</td>\n",
       "      <td>[Comedies,  Dramas,  International Movies]</td>\n",
       "    </tr>\n",
       "    <tr>\n",
       "      <th>3</th>\n",
       "      <td>Atlantics</td>\n",
       "      <td>Arranged marry rich man, young Ada crushed true love goes missing sea migration attempt – miracle reunites them.</td>\n",
       "      <td>[Dramas,  Independent Movies,  International Movies]</td>\n",
       "    </tr>\n",
       "    <tr>\n",
       "      <th>4</th>\n",
       "      <td>Chip and Potato</td>\n",
       "      <td>Lovable pug Chip starts kindergarten, makes new friends tries new things – little help Potato, secret mouse pal.</td>\n",
       "      <td>[Kids' TV]</td>\n",
       "    </tr>\n",
       "  </tbody>\n",
       "</table>\n",
       "</div>"
      ],
      "text/plain": [
       "                                 title  \\\n",
       "0                            Chocolate   \n",
       "1  Guatemala: Heart of the Mayan World   \n",
       "2                      The Zoya Factor   \n",
       "3                            Atlantics   \n",
       "4                      Chip and Potato   \n",
       "\n",
       "                                                                                                                            description  \\\n",
       "0                                  Brought together meaningful meals past present, doctor chef reacquainted begin working hospice ward.   \n",
       "1  From Sierra de las Minas Esquipulas, explore Guatemala's cultural geological wealth, including ancient Mayan cities natural wonders.   \n",
       "2                A goofy copywriter unwittingly convinces Indian cricket team she’s lucky mascot, dismay superstition-shunning captain.   \n",
       "3                      Arranged marry rich man, young Ada crushed true love goes missing sea migration attempt – miracle reunites them.   \n",
       "4                      Lovable pug Chip starts kindergarten, makes new friends tries new things – little help Potato, secret mouse pal.   \n",
       "\n",
       "                                                        listed_in  \n",
       "0  [International TV Shows,  Korean TV Shows,  Romantic TV Shows]  \n",
       "1                          [Documentaries,  International Movies]  \n",
       "2                      [Comedies,  Dramas,  International Movies]  \n",
       "3            [Dramas,  Independent Movies,  International Movies]  \n",
       "4                                                      [Kids' TV]  "
      ]
     },
     "execution_count": 5,
     "metadata": {},
     "output_type": "execute_result"
    }
   ],
   "source": [
    "data.listed_in = data.listed_in.str.split(',')\n",
    "data.head()"
   ]
  },
  {
   "cell_type": "code",
   "execution_count": 6,
   "metadata": {},
   "outputs": [],
   "source": [
    "multilabel_binarizer = MultiLabelBinarizer()\n",
    "multilabel_binarizer.fit(data['listed_in'])\n",
    "\n",
    "y = multilabel_binarizer.transform(data['listed_in'])"
   ]
  },
  {
   "cell_type": "code",
   "execution_count": 7,
   "metadata": {},
   "outputs": [],
   "source": [
    "x_train, x_val, ytrain, yval = train_test_split(data['description'],\n",
    "                                                y, test_size=0.2)"
   ]
  },
  {
   "cell_type": "code",
   "execution_count": 8,
   "metadata": {},
   "outputs": [],
   "source": [
    "tfidf_vectorizer = TfidfVectorizer(max_df=0.5, min_df=1, max_features=5000)\n",
    "xtrain = tfidf_vectorizer.fit_transform(x_train)\n",
    "xval = tfidf_vectorizer.transform(x_val)"
   ]
  },
  {
   "cell_type": "code",
   "execution_count": 9,
   "metadata": {},
   "outputs": [
    {
     "data": {
      "text/plain": [
       "OneVsRestClassifier(estimator=DecisionTreeClassifier(class_weight=None,\n",
       "                                                     criterion='gini',\n",
       "                                                     max_depth=None,\n",
       "                                                     max_features=None,\n",
       "                                                     max_leaf_nodes=None,\n",
       "                                                     min_impurity_decrease=0.0,\n",
       "                                                     min_impurity_split=None,\n",
       "                                                     min_samples_leaf=1,\n",
       "                                                     min_samples_split=2,\n",
       "                                                     min_weight_fraction_leaf=0.0,\n",
       "                                                     presort=False,\n",
       "                                                     random_state=None,\n",
       "                                                     splitter='best'),\n",
       "                    n_jobs=None)"
      ]
     },
     "execution_count": 9,
     "metadata": {},
     "output_type": "execute_result"
    }
   ],
   "source": [
    "lr = DecisionTreeClassifier()\n",
    "classifier = OneVsRestClassifier(lr)\n",
    "classifier.fit(xtrain, ytrain)"
   ]
  },
  {
   "cell_type": "code",
   "execution_count": 10,
   "metadata": {},
   "outputs": [
    {
     "data": {
      "text/plain": [
       "(0.2201352366641623, 0.023972602739726026)"
      ]
     },
     "execution_count": 10,
     "metadata": {},
     "output_type": "execute_result"
    }
   ],
   "source": [
    "y_pred = classifier.predict(xval)\n",
    "f1_score(yval, y_pred, average=\"micro\"), accuracy_score(yval, y_pred)"
   ]
  },
  {
   "cell_type": "code",
   "execution_count": 11,
   "metadata": {},
   "outputs": [
    {
     "data": {
      "text/plain": [
       "(0.2201352366641623, 0.023972602739726026)"
      ]
     },
     "execution_count": 11,
     "metadata": {},
     "output_type": "execute_result"
    }
   ],
   "source": [
    "pred_prob = classifier.predict_proba(xval)\n",
    "t = 0.3\n",
    "predp = (pred_prob >= t).astype(int)\n",
    "f1_score(yval, predp, average=\"micro\"), accuracy_score(yval, predp)"
   ]
  },
  {
   "cell_type": "code",
   "execution_count": 12,
   "metadata": {},
   "outputs": [],
   "source": [
    "def predict(m):\n",
    "    m = remove_stopwords(m)\n",
    "    m_vec = tfidf_vectorizer.transform([m])\n",
    "    pred_prob = classifier.predict_proba(m_vec)\n",
    "    t = 0.3\n",
    "    predp = (pred_prob >= t).astype(int)\n",
    "    #m_pred = classifier.predict(m_vec)\n",
    "    return multilabel_binarizer.inverse_transform(predp)"
   ]
  },
  {
   "cell_type": "code",
   "execution_count": 13,
   "metadata": {},
   "outputs": [
    {
     "data": {
      "text/html": [
       "<div>\n",
       "<style scoped>\n",
       "    .dataframe tbody tr th:only-of-type {\n",
       "        vertical-align: middle;\n",
       "    }\n",
       "\n",
       "    .dataframe tbody tr th {\n",
       "        vertical-align: top;\n",
       "    }\n",
       "\n",
       "    .dataframe thead th {\n",
       "        text-align: right;\n",
       "    }\n",
       "</style>\n",
       "<table border=\"1\" class=\"dataframe\">\n",
       "  <thead>\n",
       "    <tr style=\"text-align: right;\">\n",
       "      <th></th>\n",
       "      <th>Title</th>\n",
       "      <th>Actual-Show-Category</th>\n",
       "      <th>Predicted Show Category</th>\n",
       "    </tr>\n",
       "  </thead>\n",
       "  <tbody>\n",
       "    <tr>\n",
       "      <th>0</th>\n",
       "      <td>Nature: Animals With Cameras</td>\n",
       "      <td>[Docuseries,  Science &amp; Nature TV]</td>\n",
       "      <td>[()]</td>\n",
       "    </tr>\n",
       "    <tr>\n",
       "      <th>1</th>\n",
       "      <td>Albion: The Enchanted Stallion</td>\n",
       "      <td>[Children &amp; Family Movies]</td>\n",
       "      <td>[( International Movies,  Music &amp; Musicals, Action &amp; Adventure)]</td>\n",
       "    </tr>\n",
       "    <tr>\n",
       "      <th>2</th>\n",
       "      <td>Wadi</td>\n",
       "      <td>[International TV Shows,  TV Dramas]</td>\n",
       "      <td>[( International Movies,  Romantic Movies,  TV Comedies)]</td>\n",
       "    </tr>\n",
       "    <tr>\n",
       "      <th>3</th>\n",
       "      <td>Defiance</td>\n",
       "      <td>[Action &amp; Adventure,  Dramas]</td>\n",
       "      <td>[( Dramas,)]</td>\n",
       "    </tr>\n",
       "    <tr>\n",
       "      <th>4</th>\n",
       "      <td>The Good Catholic</td>\n",
       "      <td>[Comedies,  Dramas,  Romantic Movies]</td>\n",
       "      <td>[( Dramas,  International TV Shows,  TV Comedies,  TV Dramas, Comedies, Crime TV Shows, International TV Shows)]</td>\n",
       "    </tr>\n",
       "    <tr>\n",
       "      <th>5</th>\n",
       "      <td>The Republic of Imbaba</td>\n",
       "      <td>[Dramas,  International Movies]</td>\n",
       "      <td>[( International Movies, Dramas)]</td>\n",
       "    </tr>\n",
       "    <tr>\n",
       "      <th>6</th>\n",
       "      <td>The Judgement</td>\n",
       "      <td>[Crime TV Shows,  International TV Shows,  TV Dramas]</td>\n",
       "      <td>[(Dramas,)]</td>\n",
       "    </tr>\n",
       "    <tr>\n",
       "      <th>7</th>\n",
       "      <td>JoJo's Bizarre Adventure</td>\n",
       "      <td>[Anime Series,  International TV Shows]</td>\n",
       "      <td>[( International Movies,  Thrillers, Dramas, International TV Shows)]</td>\n",
       "    </tr>\n",
       "    <tr>\n",
       "      <th>8</th>\n",
       "      <td>One by Two</td>\n",
       "      <td>[Comedies,  Dramas,  International Movies]</td>\n",
       "      <td>[(Comedies,)]</td>\n",
       "    </tr>\n",
       "    <tr>\n",
       "      <th>9</th>\n",
       "      <td>Meghnadbodh Rohoshyo</td>\n",
       "      <td>[Dramas,  International Movies]</td>\n",
       "      <td>[( Comedies,)]</td>\n",
       "    </tr>\n",
       "  </tbody>\n",
       "</table>\n",
       "</div>"
      ],
      "text/plain": [
       "                            Title  \\\n",
       "0    Nature: Animals With Cameras   \n",
       "1  Albion: The Enchanted Stallion   \n",
       "2                            Wadi   \n",
       "3                        Defiance   \n",
       "4               The Good Catholic   \n",
       "5          The Republic of Imbaba   \n",
       "6                   The Judgement   \n",
       "7        JoJo's Bizarre Adventure   \n",
       "8                      One by Two   \n",
       "9            Meghnadbodh Rohoshyo   \n",
       "\n",
       "                                    Actual-Show-Category  \\\n",
       "0                     [Docuseries,  Science & Nature TV]   \n",
       "1                             [Children & Family Movies]   \n",
       "2                   [International TV Shows,  TV Dramas]   \n",
       "3                          [Action & Adventure,  Dramas]   \n",
       "4                  [Comedies,  Dramas,  Romantic Movies]   \n",
       "5                        [Dramas,  International Movies]   \n",
       "6  [Crime TV Shows,  International TV Shows,  TV Dramas]   \n",
       "7                [Anime Series,  International TV Shows]   \n",
       "8             [Comedies,  Dramas,  International Movies]   \n",
       "9                        [Dramas,  International Movies]   \n",
       "\n",
       "                                                                                            Predicted Show Category  \n",
       "0                                                                                                              [()]  \n",
       "1                                                  [( International Movies,  Music & Musicals, Action & Adventure)]  \n",
       "2                                                         [( International Movies,  Romantic Movies,  TV Comedies)]  \n",
       "3                                                                                                      [( Dramas,)]  \n",
       "4  [( Dramas,  International TV Shows,  TV Comedies,  TV Dramas, Comedies, Crime TV Shows, International TV Shows)]  \n",
       "5                                                                                 [( International Movies, Dramas)]  \n",
       "6                                                                                                       [(Dramas,)]  \n",
       "7                                             [( International Movies,  Thrillers, Dramas, International TV Shows)]  \n",
       "8                                                                                                     [(Comedies,)]  \n",
       "9                                                                                                    [( Comedies,)]  "
      ]
     },
     "execution_count": 13,
     "metadata": {},
     "output_type": "execute_result"
    }
   ],
   "source": [
    "title = []\n",
    "actual_list = []\n",
    "predicted_list = []\n",
    "for i in range(10):\n",
    "    k = x_val.sample(1).index[0]\n",
    "    title.append(data['title'][k])\n",
    "    predicted_list.append(predict(x_val[k]))\n",
    "    actual_list.append(data['listed_in'][k])\n",
    "\n",
    "dicts = {'Title': title,'Actual-Show-Category':actual_list,\n",
    "        'Predicted Show Category': predicted_list}\n",
    "df = pd.DataFrame(data=dicts)\n",
    "df.head(10)"
   ]
  },
  {
   "cell_type": "code",
   "execution_count": null,
   "metadata": {},
   "outputs": [],
   "source": []
  }
 ],
 "metadata": {
  "kernelspec": {
   "display_name": "Python 3",
   "language": "python",
   "name": "python3"
  },
  "language_info": {
   "codemirror_mode": {
    "name": "ipython",
    "version": 3
   },
   "file_extension": ".py",
   "mimetype": "text/x-python",
   "name": "python",
   "nbconvert_exporter": "python",
   "pygments_lexer": "ipython3",
   "version": "3.6.6"
  }
 },
 "nbformat": 4,
 "nbformat_minor": 1
}
